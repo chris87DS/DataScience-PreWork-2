{
 "cells": [
  {
   "cell_type": "markdown",
   "metadata": {},
   "source": [
    "# Implementing a machine learning for Titanic case"
   ]
  },
  {
   "cell_type": "markdown",
   "metadata": {},
   "source": [
    "*For data anlysis see Titanic notebook*\n",
    "##### First trials\n",
    "* Load Input Data\n",
    "  * Clean & complete data\n",
    "  * Split Training Data \n",
    "* Train 1 ML \n",
    "* Validate using Input Data\n",
    "\n",
    "##### Several ML implementing\n",
    "First three steps kepts\n",
    "* Train several ML\n",
    "* Validate and compare\n",
    "* Select Best\n",
    "* Predict\n",
    "* Submit"
   ]
  },
  {
   "cell_type": "code",
   "execution_count": 286,
   "metadata": {
    "collapsed": false
   },
   "outputs": [],
   "source": [
    "import pandas as pd\n",
    "import numpy as np\n",
    "import math\n",
    "import StringIO\n",
    "import datetime\n",
    "import pydot_ng\n",
    "import shutil \n",
    "from sklearn import tree\n",
    "from IPython.display import Image  \n",
    "from sklearn.externals.six import StringIO\n",
    "from sklearn import ensemble\n",
    "from sklearn import linear_model\n",
    "from sklearn import preprocessing\n",
    "from sklearn.ensemble import GradientBoostingClassifier\n",
    "from sklearn import svm\n",
    "from sklearn import neighbors\n",
    "from sklearn.cross_validation import KFold"
   ]
  },
  {
   "cell_type": "markdown",
   "metadata": {},
   "source": [
    "# Load Input Data"
   ]
  },
  {
   "cell_type": "code",
   "execution_count": 287,
   "metadata": {
    "collapsed": false
   },
   "outputs": [
    {
     "data": {
      "text/html": [
       "<div>\n",
       "<table border=\"1\" class=\"dataframe\">\n",
       "  <thead>\n",
       "    <tr style=\"text-align: right;\">\n",
       "      <th></th>\n",
       "      <th>PassengerId</th>\n",
       "      <th>Survived</th>\n",
       "      <th>Pclass</th>\n",
       "      <th>Name</th>\n",
       "      <th>Sex</th>\n",
       "      <th>Age</th>\n",
       "      <th>SibSp</th>\n",
       "      <th>Parch</th>\n",
       "      <th>Ticket</th>\n",
       "      <th>Fare</th>\n",
       "      <th>Cabin</th>\n",
       "      <th>Embarked</th>\n",
       "    </tr>\n",
       "  </thead>\n",
       "  <tbody>\n",
       "    <tr>\n",
       "      <th>0</th>\n",
       "      <td>1</td>\n",
       "      <td>0</td>\n",
       "      <td>3</td>\n",
       "      <td>Braund, Mr. Owen Harris</td>\n",
       "      <td>male</td>\n",
       "      <td>22.0</td>\n",
       "      <td>1</td>\n",
       "      <td>0</td>\n",
       "      <td>A/5 21171</td>\n",
       "      <td>7.2500</td>\n",
       "      <td>NaN</td>\n",
       "      <td>S</td>\n",
       "    </tr>\n",
       "    <tr>\n",
       "      <th>1</th>\n",
       "      <td>2</td>\n",
       "      <td>1</td>\n",
       "      <td>1</td>\n",
       "      <td>Cumings, Mrs. John Bradley (Florence Briggs Th...</td>\n",
       "      <td>female</td>\n",
       "      <td>38.0</td>\n",
       "      <td>1</td>\n",
       "      <td>0</td>\n",
       "      <td>PC 17599</td>\n",
       "      <td>71.2833</td>\n",
       "      <td>C85</td>\n",
       "      <td>C</td>\n",
       "    </tr>\n",
       "    <tr>\n",
       "      <th>2</th>\n",
       "      <td>3</td>\n",
       "      <td>1</td>\n",
       "      <td>3</td>\n",
       "      <td>Heikkinen, Miss. Laina</td>\n",
       "      <td>female</td>\n",
       "      <td>26.0</td>\n",
       "      <td>0</td>\n",
       "      <td>0</td>\n",
       "      <td>STON/O2. 3101282</td>\n",
       "      <td>7.9250</td>\n",
       "      <td>NaN</td>\n",
       "      <td>S</td>\n",
       "    </tr>\n",
       "  </tbody>\n",
       "</table>\n",
       "</div>"
      ],
      "text/plain": [
       "   PassengerId  Survived  Pclass  \\\n",
       "0            1         0       3   \n",
       "1            2         1       1   \n",
       "2            3         1       3   \n",
       "\n",
       "                                                Name     Sex   Age  SibSp  \\\n",
       "0                            Braund, Mr. Owen Harris    male  22.0      1   \n",
       "1  Cumings, Mrs. John Bradley (Florence Briggs Th...  female  38.0      1   \n",
       "2                             Heikkinen, Miss. Laina  female  26.0      0   \n",
       "\n",
       "   Parch            Ticket     Fare Cabin Embarked  \n",
       "0      0         A/5 21171   7.2500   NaN        S  \n",
       "1      0          PC 17599  71.2833   C85        C  \n",
       "2      0  STON/O2. 3101282   7.9250   NaN        S  "
      ]
     },
     "execution_count": 287,
     "metadata": {},
     "output_type": "execute_result"
    }
   ],
   "source": [
    "def LoadData(path):\n",
    "    return pd.read_csv(path)\n",
    "wholeInputData = LoadData('train.csv')\n",
    "wholeInputData.head(3)"
   ]
  },
  {
   "cell_type": "markdown",
   "metadata": {},
   "source": [
    "## Clean & complete data"
   ]
  },
  {
   "cell_type": "markdown",
   "metadata": {},
   "source": [
    "### Number of familly members\n",
    "We add the number of familly member. It is dependent of two others variables but it wouldn't it be complicated for the ml to find this feature ?"
   ]
  },
  {
   "cell_type": "code",
   "execution_count": 288,
   "metadata": {
    "collapsed": false
   },
   "outputs": [],
   "source": [
    "def AddFamillyNbr(data):\n",
    "    data['FamillyNbr']=data.Parch+data.SibSp\n",
    "AddFamillyNbr(wholeInputData)"
   ]
  },
  {
   "cell_type": "markdown",
   "metadata": {},
   "source": [
    "### Missing Age values\n",
    "We fill the missing value for the age"
   ]
  },
  {
   "cell_type": "code",
   "execution_count": 289,
   "metadata": {
    "collapsed": false
   },
   "outputs": [],
   "source": [
    "def FillWithMedian(data, columnName):\n",
    "    median = data[columnName].median()\n",
    "    data[columnName]=data[columnName].fillna(median)\n",
    "    return median\n",
    "    \n",
    "medianAge = FillWithMedian(wholeInputData,'Age')"
   ]
  },
  {
   "cell_type": "markdown",
   "metadata": {},
   "source": [
    "### Is There other empty values"
   ]
  },
  {
   "cell_type": "code",
   "execution_count": 290,
   "metadata": {
    "collapsed": false
   },
   "outputs": [
    {
     "name": "stdout",
     "output_type": "stream",
     "text": [
      "Does Age has NA : False\n",
      "Does Fare has NA : False\n",
      "Does Sex has NA : False\n",
      "Does Clas has NA : False\n",
      "Does FamillyNbr has NA : False\n",
      "Does Ticket has NA : False\n",
      "Does Cabin has NA : True\n"
     ]
    }
   ],
   "source": [
    "def CheckForNull(ser):\n",
    "    return ser.isnull().any()\n",
    "print('Does Age has NA : %s' % CheckForNull(wholeInputData.Age))\n",
    "print('Does Fare has NA : %s' % CheckForNull(wholeInputData.Fare))\n",
    "print('Does Sex has NA : %s' % CheckForNull(wholeInputData.Sex))\n",
    "print('Does Clas has NA : %s' % CheckForNull(wholeInputData.Pclass))\n",
    "print('Does FamillyNbr has NA : %s' % CheckForNull(wholeInputData.FamillyNbr))\n",
    "print('Does Ticket has NA : %s' % CheckForNull(wholeInputData.Ticket))\n",
    "print('Does Cabin has NA : %s' % CheckForNull(wholeInputData.Cabin))"
   ]
  },
  {
   "cell_type": "markdown",
   "metadata": {},
   "source": [
    "#### Cabin\n",
    "Cabin is not useful as it is partially empty and has unique values.\n",
    "Lets analyze the data to see if the First letter could be computed. "
   ]
  },
  {
   "cell_type": "code",
   "execution_count": 291,
   "metadata": {
    "collapsed": false
   },
   "outputs": [
    {
     "data": {
      "text/html": [
       "<div>\n",
       "<table border=\"1\" class=\"dataframe\">\n",
       "  <thead>\n",
       "    <tr style=\"text-align: right;\">\n",
       "      <th></th>\n",
       "      <th>Pclass</th>\n",
       "      <th>Cabin</th>\n",
       "    </tr>\n",
       "  </thead>\n",
       "  <tbody>\n",
       "    <tr>\n",
       "      <th>0</th>\n",
       "      <td>3</td>\n",
       "      <td>NaN</td>\n",
       "    </tr>\n",
       "    <tr>\n",
       "      <th>1</th>\n",
       "      <td>1</td>\n",
       "      <td>C85</td>\n",
       "    </tr>\n",
       "    <tr>\n",
       "      <th>2</th>\n",
       "      <td>3</td>\n",
       "      <td>NaN</td>\n",
       "    </tr>\n",
       "    <tr>\n",
       "      <th>3</th>\n",
       "      <td>1</td>\n",
       "      <td>C123</td>\n",
       "    </tr>\n",
       "    <tr>\n",
       "      <th>4</th>\n",
       "      <td>3</td>\n",
       "      <td>NaN</td>\n",
       "    </tr>\n",
       "    <tr>\n",
       "      <th>5</th>\n",
       "      <td>3</td>\n",
       "      <td>NaN</td>\n",
       "    </tr>\n",
       "    <tr>\n",
       "      <th>6</th>\n",
       "      <td>1</td>\n",
       "      <td>E46</td>\n",
       "    </tr>\n",
       "    <tr>\n",
       "      <th>7</th>\n",
       "      <td>3</td>\n",
       "      <td>NaN</td>\n",
       "    </tr>\n",
       "    <tr>\n",
       "      <th>8</th>\n",
       "      <td>3</td>\n",
       "      <td>NaN</td>\n",
       "    </tr>\n",
       "    <tr>\n",
       "      <th>9</th>\n",
       "      <td>2</td>\n",
       "      <td>NaN</td>\n",
       "    </tr>\n",
       "  </tbody>\n",
       "</table>\n",
       "</div>"
      ],
      "text/plain": [
       "   Pclass Cabin\n",
       "0       3   NaN\n",
       "1       1   C85\n",
       "2       3   NaN\n",
       "3       1  C123\n",
       "4       3   NaN\n",
       "5       3   NaN\n",
       "6       1   E46\n",
       "7       3   NaN\n",
       "8       3   NaN\n",
       "9       2   NaN"
      ]
     },
     "execution_count": 291,
     "metadata": {},
     "output_type": "execute_result"
    }
   ],
   "source": [
    "wholeInputData[['Pclass','Cabin']].head(10)"
   ]
  },
  {
   "cell_type": "markdown",
   "metadata": {},
   "source": [
    "Data won't be usable without good transformation"
   ]
  },
  {
   "cell_type": "markdown",
   "metadata": {},
   "source": [
    "### Normalize data"
   ]
  },
  {
   "cell_type": "code",
   "execution_count": 292,
   "metadata": {
    "collapsed": false
   },
   "outputs": [],
   "source": [
    "def getNormalizer(data):\n",
    "    return preprocessing.StandardScaler(copy=True).fit(data)\n",
    "normalizer = getNormalizer(wholeInputData[['Age','Fare']])"
   ]
  },
  {
   "cell_type": "markdown",
   "metadata": {},
   "source": [
    "### Split Training Data"
   ]
  },
  {
   "cell_type": "code",
   "execution_count": 293,
   "metadata": {
    "collapsed": false
   },
   "outputs": [
    {
     "data": {
      "text/plain": [
       "50"
      ]
     },
     "execution_count": 293,
     "metadata": {},
     "output_type": "execute_result"
    }
   ],
   "source": [
    "def SplitData(input, sizeValidate):\n",
    "    validateSample = input.sample(n=sizeValidate, random_state =10)#to be able to repeat if necessary we force randomstate\n",
    "    rest = input.drop(validateSample.index)    \n",
    "    return (validateSample, rest)\n",
    "    \n",
    "validateData, trainData=SplitData(wholeInputData,50)\n",
    "len(validateData.index)"
   ]
  },
  {
   "cell_type": "code",
   "execution_count": 294,
   "metadata": {
    "collapsed": false
   },
   "outputs": [
    {
     "data": {
      "text/plain": [
       "841"
      ]
     },
     "execution_count": 294,
     "metadata": {},
     "output_type": "execute_result"
    }
   ],
   "source": [
    "len(trainData.index)"
   ]
  },
  {
   "cell_type": "markdown",
   "metadata": {},
   "source": [
    "#### Save them in case of"
   ]
  },
  {
   "cell_type": "code",
   "execution_count": 295,
   "metadata": {
    "collapsed": true
   },
   "outputs": [],
   "source": [
    "validateData.to_csv('split_validate.csv')\n",
    "trainData.to_csv('split_train.csv')"
   ]
  },
  {
   "cell_type": "markdown",
   "metadata": {},
   "source": [
    "## Train a decision tree\n",
    "The decision tree is the easiest to understand. That's why I choosed it as the first\n",
    "\n",
    "*This requires no missing value. No other preparation is needed*\n",
    "#### Tidy Dataset"
   ]
  },
  {
   "cell_type": "code",
   "execution_count": 296,
   "metadata": {
    "collapsed": false
   },
   "outputs": [
    {
     "data": {
      "text/html": [
       "<div>\n",
       "<table border=\"1\" class=\"dataframe\">\n",
       "  <thead>\n",
       "    <tr style=\"text-align: right;\">\n",
       "      <th></th>\n",
       "      <th>PassengerId</th>\n",
       "      <th>Survived</th>\n",
       "      <th>Pclass</th>\n",
       "      <th>Name</th>\n",
       "      <th>Sex</th>\n",
       "      <th>Age</th>\n",
       "      <th>SibSp</th>\n",
       "      <th>Parch</th>\n",
       "      <th>Ticket</th>\n",
       "      <th>Fare</th>\n",
       "      <th>Cabin</th>\n",
       "      <th>Embarked</th>\n",
       "      <th>FamillyNbr</th>\n",
       "    </tr>\n",
       "  </thead>\n",
       "  <tbody>\n",
       "    <tr>\n",
       "      <th>0</th>\n",
       "      <td>1</td>\n",
       "      <td>0</td>\n",
       "      <td>3</td>\n",
       "      <td>Braund, Mr. Owen Harris</td>\n",
       "      <td>male</td>\n",
       "      <td>22.0</td>\n",
       "      <td>1</td>\n",
       "      <td>0</td>\n",
       "      <td>A/5 21171</td>\n",
       "      <td>7.250</td>\n",
       "      <td>NaN</td>\n",
       "      <td>S</td>\n",
       "      <td>1</td>\n",
       "    </tr>\n",
       "    <tr>\n",
       "      <th>2</th>\n",
       "      <td>3</td>\n",
       "      <td>1</td>\n",
       "      <td>3</td>\n",
       "      <td>Heikkinen, Miss. Laina</td>\n",
       "      <td>female</td>\n",
       "      <td>26.0</td>\n",
       "      <td>0</td>\n",
       "      <td>0</td>\n",
       "      <td>STON/O2. 3101282</td>\n",
       "      <td>7.925</td>\n",
       "      <td>NaN</td>\n",
       "      <td>S</td>\n",
       "      <td>0</td>\n",
       "    </tr>\n",
       "    <tr>\n",
       "      <th>3</th>\n",
       "      <td>4</td>\n",
       "      <td>1</td>\n",
       "      <td>1</td>\n",
       "      <td>Futrelle, Mrs. Jacques Heath (Lily May Peel)</td>\n",
       "      <td>female</td>\n",
       "      <td>35.0</td>\n",
       "      <td>1</td>\n",
       "      <td>0</td>\n",
       "      <td>113803</td>\n",
       "      <td>53.100</td>\n",
       "      <td>C123</td>\n",
       "      <td>S</td>\n",
       "      <td>1</td>\n",
       "    </tr>\n",
       "  </tbody>\n",
       "</table>\n",
       "</div>"
      ],
      "text/plain": [
       "   PassengerId  Survived  Pclass  \\\n",
       "0            1         0       3   \n",
       "2            3         1       3   \n",
       "3            4         1       1   \n",
       "\n",
       "                                           Name     Sex   Age  SibSp  Parch  \\\n",
       "0                       Braund, Mr. Owen Harris    male  22.0      1      0   \n",
       "2                        Heikkinen, Miss. Laina  female  26.0      0      0   \n",
       "3  Futrelle, Mrs. Jacques Heath (Lily May Peel)  female  35.0      1      0   \n",
       "\n",
       "             Ticket    Fare Cabin Embarked  FamillyNbr  \n",
       "0         A/5 21171   7.250   NaN        S           1  \n",
       "2  STON/O2. 3101282   7.925   NaN        S           0  \n",
       "3            113803  53.100  C123        S           1  "
      ]
     },
     "execution_count": 296,
     "metadata": {},
     "output_type": "execute_result"
    }
   ],
   "source": [
    "trainData.head(3)"
   ]
  },
  {
   "cell_type": "code",
   "execution_count": 297,
   "metadata": {
    "collapsed": false
   },
   "outputs": [],
   "source": [
    "def TidyData(data):    \n",
    "    result =  data.drop(['Cabin','Name','Ticket','Embarked','Sex','PassengerId'],axis=1)\n",
    "    if('Survived' in data.columns):\n",
    "        result = result.drop('Survived',axis=1)\n",
    "    result['Genre'] = map(lambda x:1 if x=='male' else 0,data['Sex'])\n",
    "    return result\n",
    "tidyValidateData = TidyData(validateData)\n",
    "tidyTrainData= TidyData(trainData)\n",
    "survivedTrain = trainData['Survived']\n",
    "survivedValidate = validateData['Survived']"
   ]
  },
  {
   "cell_type": "code",
   "execution_count": 298,
   "metadata": {
    "collapsed": false,
    "scrolled": true
   },
   "outputs": [
    {
     "data": {
      "text/html": [
       "<div>\n",
       "<table border=\"1\" class=\"dataframe\">\n",
       "  <thead>\n",
       "    <tr style=\"text-align: right;\">\n",
       "      <th></th>\n",
       "      <th>Pclass</th>\n",
       "      <th>Age</th>\n",
       "      <th>SibSp</th>\n",
       "      <th>Parch</th>\n",
       "      <th>Fare</th>\n",
       "      <th>FamillyNbr</th>\n",
       "      <th>Genre</th>\n",
       "    </tr>\n",
       "  </thead>\n",
       "  <tbody>\n",
       "    <tr>\n",
       "      <th>0</th>\n",
       "      <td>3</td>\n",
       "      <td>22.0</td>\n",
       "      <td>1</td>\n",
       "      <td>0</td>\n",
       "      <td>7.250</td>\n",
       "      <td>1</td>\n",
       "      <td>1</td>\n",
       "    </tr>\n",
       "    <tr>\n",
       "      <th>2</th>\n",
       "      <td>3</td>\n",
       "      <td>26.0</td>\n",
       "      <td>0</td>\n",
       "      <td>0</td>\n",
       "      <td>7.925</td>\n",
       "      <td>0</td>\n",
       "      <td>0</td>\n",
       "    </tr>\n",
       "    <tr>\n",
       "      <th>3</th>\n",
       "      <td>1</td>\n",
       "      <td>35.0</td>\n",
       "      <td>1</td>\n",
       "      <td>0</td>\n",
       "      <td>53.100</td>\n",
       "      <td>1</td>\n",
       "      <td>0</td>\n",
       "    </tr>\n",
       "  </tbody>\n",
       "</table>\n",
       "</div>"
      ],
      "text/plain": [
       "   Pclass   Age  SibSp  Parch    Fare  FamillyNbr  Genre\n",
       "0       3  22.0      1      0   7.250           1      1\n",
       "2       3  26.0      0      0   7.925           0      0\n",
       "3       1  35.0      1      0  53.100           1      0"
      ]
     },
     "execution_count": 298,
     "metadata": {},
     "output_type": "execute_result"
    }
   ],
   "source": [
    "tidyTrainData.head(3)"
   ]
  },
  {
   "cell_type": "code",
   "execution_count": 299,
   "metadata": {
    "collapsed": false
   },
   "outputs": [
    {
     "data": {
      "text/plain": [
       "0    0\n",
       "2    1\n",
       "3    1\n",
       "Name: Survived, dtype: int64"
      ]
     },
     "execution_count": 299,
     "metadata": {},
     "output_type": "execute_result"
    }
   ],
   "source": [
    "survivedTrain.head(3)"
   ]
  },
  {
   "cell_type": "code",
   "execution_count": 300,
   "metadata": {
    "collapsed": false
   },
   "outputs": [],
   "source": [
    "classifierTree = tree.DecisionTreeClassifier()\n",
    "classifierTree = classifierTree.fit(tidyTrainData,survivedTrain)"
   ]
  },
  {
   "cell_type": "markdown",
   "metadata": {},
   "source": [
    "### Display the tree"
   ]
  },
  {
   "cell_type": "code",
   "execution_count": 301,
   "metadata": {
    "collapsed": false
   },
   "outputs": [],
   "source": [
    "def ExportGraphAsPng(treeToExport,featuresName,targetName,fileName):\n",
    "    output = StringIO() \n",
    "    tree.export_graphviz(treeToExport, out_file=output,  \n",
    "                         feature_names=featuresName,  \n",
    "                         class_names=targetName,  \n",
    "                         filled=True, rounded=True,  \n",
    "                         special_characters=True)    \n",
    "    graph = pydot_ng.graph_from_dot_data(output.getvalue()) \n",
    "    graph.write_png(fileName)         \n",
    "targetLabels = ['Dead','Survived']\n",
    "#ExportGraphAsPng(classifierTree, tidyTrainData.columns,targetLabels,'FirstTree.png')\n"
   ]
  },
  {
   "cell_type": "markdown",
   "metadata": {
    "collapsed": true
   },
   "source": [
    "<img src=\"FirstTree.png\" alt=\"First Tree\"/>"
   ]
  },
  {
   "cell_type": "markdown",
   "metadata": {},
   "source": [
    "We can see overfit.\n",
    "\n",
    "Let's put a limit on the number of sample per class (several iteration were done : 5,10,20)."
   ]
  },
  {
   "cell_type": "code",
   "execution_count": 302,
   "metadata": {
    "collapsed": false
   },
   "outputs": [],
   "source": [
    "limitedTree = tree.DecisionTreeClassifier(min_samples_leaf =25)\n",
    "limitedTree = limitedTree.fit(tidyTrainData,survivedTrain)\n",
    "#ExportGraphAsPng(limitedTree, tidyTrainData.columns,targetLabels,'SecondTree.png')"
   ]
  },
  {
   "cell_type": "markdown",
   "metadata": {},
   "source": [
    "<img src=\"SecondTree.png\" alt=\"First Tree\"/>"
   ]
  },
  {
   "cell_type": "markdown",
   "metadata": {},
   "source": [
    "A pruning would be very usefull :\n",
    "* For female with a class 1 and 2, all survived\n",
    "* For male almost all older then 13 died (those who were class as surving are almost equivalent numeber of dead)\n",
    "Let's try with a max depth of 3"
   ]
  },
  {
   "cell_type": "code",
   "execution_count": 303,
   "metadata": {
    "collapsed": true
   },
   "outputs": [],
   "source": [
    "lengthTree = tree.DecisionTreeClassifier(max_depth =3)\n",
    "lengthTree = lengthTree.fit(tidyTrainData,survivedTrain)\n",
    "#ExportGraphAsPng(lengthTree, tidyTrainData.columns,targetLabels,'ThirdTree.png')"
   ]
  },
  {
   "cell_type": "markdown",
   "metadata": {},
   "source": [
    "<img src=\"ThirdTree.png\" alt=\"First Tree\"/>"
   ]
  },
  {
   "cell_type": "markdown",
   "metadata": {
    "collapsed": true
   },
   "source": [
    "### Evaluate Results"
   ]
  },
  {
   "cell_type": "code",
   "execution_count": 304,
   "metadata": {
    "collapsed": false
   },
   "outputs": [
    {
     "name": "stdout",
     "output_type": "stream",
     "text": [
      "Accuracy for Classifier Tree : 78.0\n",
      "Accuracy for Classifier Tree with a minimal class size : 84.0\n",
      "Accuracy for Classifier Tree with a fixed length : 82.0\n"
     ]
    }
   ],
   "source": [
    "def EvaluateModel(tree, validationSet,expectedResults):\n",
    "    predictions = tree.predict(validationSet)\n",
    "    results = predictions==expectedResults\n",
    "    return results\n",
    "def Accuracy(results):\n",
    "    nbrTrue = results[results==True].count()\n",
    "    nbrTotal = results.count()    \n",
    "    return nbrTrue/float(nbrTotal)*100.0\n",
    "resltClassifierTree = EvaluateModel(classifierTree, tidyValidateData, survivedValidate)\n",
    "resltLimitedTree = EvaluateModel(limitedTree, tidyValidateData, survivedValidate)\n",
    "resltMengthTree = EvaluateModel(lengthTree, tidyValidateData, survivedValidate)\n",
    "print ('Accuracy for Classifier Tree : %s' % Accuracy(resltClassifierTree))\n",
    "print ('Accuracy for Classifier Tree with a minimal class size : %s' % Accuracy(resltLimitedTree))\n",
    "print ('Accuracy for Classifier Tree with a fixed length : %s' % Accuracy(resltMengthTree))"
   ]
  },
  {
   "cell_type": "markdown",
   "metadata": {},
   "source": [
    "The minimal class size apparently avoids an overfit and gives better results.\n",
    "With an accuary of 82%."
   ]
  },
  {
   "cell_type": "markdown",
   "metadata": {},
   "source": [
    "# Train several ML\n",
    "Possibles algorithm based on https://azure.microsoft.com/en-us/documentation/articles/machine-learning-algorithm-choice/\n",
    "* decision forest / random forest\n",
    "* logistic regression  \n",
    "* decision jungle (NA for Python)\n",
    "* boosted decision tree\t\n",
    "* neural network\n",
    "* support vector machine\n",
    "\n",
    "\n",
    "## Random forest tree"
   ]
  },
  {
   "cell_type": "code",
   "execution_count": 305,
   "metadata": {
    "collapsed": false
   },
   "outputs": [],
   "source": [
    "#Using recommended started values for parameters sqrt(7)--> 3 \n",
    "#http://scikit-learn.org/stable/modules/ensemble.html#forests-of-randomized-trees\n",
    "rfcTrees = ensemble.RandomForestClassifier(n_estimators=10,max_features=3)\n",
    "rfcTrees = rfcTrees.fit(tidyTrainData,survivedTrain)"
   ]
  },
  {
   "cell_type": "code",
   "execution_count": 306,
   "metadata": {
    "collapsed": false
   },
   "outputs": [
    {
     "name": "stdout",
     "output_type": "stream",
     "text": [
      "Accuracy for Random Forest Trees : 80.0\n"
     ]
    }
   ],
   "source": [
    "resultrfcTrees = EvaluateModel(rfcTrees, tidyValidateData, survivedValidate)\n",
    "print ('Accuracy for Random Forest Trees : %s' % Accuracy(resultrfcTrees))"
   ]
  },
  {
   "cell_type": "markdown",
   "metadata": {},
   "source": [
    "## Prepare Data for specific machine learning"
   ]
  },
  {
   "cell_type": "code",
   "execution_count": 307,
   "metadata": {
    "collapsed": false
   },
   "outputs": [
    {
     "data": {
      "text/html": [
       "<div>\n",
       "<table border=\"1\" class=\"dataframe\">\n",
       "  <thead>\n",
       "    <tr style=\"text-align: right;\">\n",
       "      <th></th>\n",
       "      <th>Age</th>\n",
       "      <th>SibSp</th>\n",
       "      <th>Parch</th>\n",
       "      <th>Fare</th>\n",
       "      <th>FamillyNbr</th>\n",
       "      <th>Genre</th>\n",
       "      <th>C1</th>\n",
       "      <th>C2</th>\n",
       "      <th>C3</th>\n",
       "    </tr>\n",
       "  </thead>\n",
       "  <tbody>\n",
       "    <tr>\n",
       "      <th>0</th>\n",
       "      <td>-0.565736</td>\n",
       "      <td>1</td>\n",
       "      <td>0</td>\n",
       "      <td>-0.502445</td>\n",
       "      <td>1</td>\n",
       "      <td>1</td>\n",
       "      <td>0.0</td>\n",
       "      <td>0.0</td>\n",
       "      <td>1.0</td>\n",
       "    </tr>\n",
       "    <tr>\n",
       "      <th>2</th>\n",
       "      <td>-0.258337</td>\n",
       "      <td>0</td>\n",
       "      <td>0</td>\n",
       "      <td>-0.488854</td>\n",
       "      <td>0</td>\n",
       "      <td>0</td>\n",
       "      <td>0.0</td>\n",
       "      <td>0.0</td>\n",
       "      <td>1.0</td>\n",
       "    </tr>\n",
       "    <tr>\n",
       "      <th>3</th>\n",
       "      <td>0.433312</td>\n",
       "      <td>1</td>\n",
       "      <td>0</td>\n",
       "      <td>0.420730</td>\n",
       "      <td>1</td>\n",
       "      <td>0</td>\n",
       "      <td>1.0</td>\n",
       "      <td>0.0</td>\n",
       "      <td>0.0</td>\n",
       "    </tr>\n",
       "    <tr>\n",
       "      <th>4</th>\n",
       "      <td>0.433312</td>\n",
       "      <td>0</td>\n",
       "      <td>0</td>\n",
       "      <td>-0.486337</td>\n",
       "      <td>0</td>\n",
       "      <td>1</td>\n",
       "      <td>0.0</td>\n",
       "      <td>0.0</td>\n",
       "      <td>1.0</td>\n",
       "    </tr>\n",
       "    <tr>\n",
       "      <th>5</th>\n",
       "      <td>-0.104637</td>\n",
       "      <td>0</td>\n",
       "      <td>0</td>\n",
       "      <td>-0.478116</td>\n",
       "      <td>0</td>\n",
       "      <td>1</td>\n",
       "      <td>0.0</td>\n",
       "      <td>0.0</td>\n",
       "      <td>1.0</td>\n",
       "    </tr>\n",
       "  </tbody>\n",
       "</table>\n",
       "</div>"
      ],
      "text/plain": [
       "        Age  SibSp  Parch      Fare  FamillyNbr  Genre   C1   C2   C3\n",
       "0 -0.565736      1      0 -0.502445           1      1  0.0  0.0  1.0\n",
       "2 -0.258337      0      0 -0.488854           0      0  0.0  0.0  1.0\n",
       "3  0.433312      1      0  0.420730           1      0  1.0  0.0  0.0\n",
       "4  0.433312      0      0 -0.486337           0      1  0.0  0.0  1.0\n",
       "5 -0.104637      0      0 -0.478116           0      1  0.0  0.0  1.0"
      ]
     },
     "execution_count": 307,
     "metadata": {},
     "output_type": "execute_result"
    }
   ],
   "source": [
    "def applyNormalization(data, scaler):\n",
    "    cData = data.copy()\n",
    "    cData[['Age','Fare']] = scaler.transform(data[['Age','Fare']])\n",
    "    cData[['C1','C2','C3']] = pd.get_dummies(data.Pclass)\n",
    "    cData = cData.drop('Pclass',axis=1)\n",
    "    return cData\n",
    "ntTrainData = applyNormalization(tidyTrainData, normalizer)\n",
    "ntValidateData = applyNormalization(tidyValidateData,normalizer)\n",
    "# We don't one encode other elements as they are indeed ordered\n",
    "ntTrainData.head(5)"
   ]
  },
  {
   "cell_type": "markdown",
   "metadata": {},
   "source": [
    "## Logistic Regression"
   ]
  },
  {
   "cell_type": "code",
   "execution_count": 308,
   "metadata": {
    "collapsed": false
   },
   "outputs": [
    {
     "name": "stdout",
     "output_type": "stream",
     "text": [
      "Accuracy for Random Forest Trees : 84.0\n"
     ]
    }
   ],
   "source": [
    "logisticRegression = linear_model.LogisticRegression()\n",
    "logisticRegression = logisticRegression.fit(ntTrainData,survivedTrain)\n",
    "resultLogistic = EvaluateModel(logisticRegression, ntValidateData, survivedValidate)\n",
    "print ('Accuracy for Random Forest Trees : %s' % Accuracy(resultLogistic))"
   ]
  },
  {
   "cell_type": "markdown",
   "metadata": {},
   "source": [
    "### Display model coefficient"
   ]
  },
  {
   "cell_type": "code",
   "execution_count": 309,
   "metadata": {
    "collapsed": false
   },
   "outputs": [
    {
     "data": {
      "text/html": [
       "<div>\n",
       "<table border=\"1\" class=\"dataframe\">\n",
       "  <thead>\n",
       "    <tr style=\"text-align: right;\">\n",
       "      <th></th>\n",
       "      <th>0</th>\n",
       "      <th>1</th>\n",
       "    </tr>\n",
       "  </thead>\n",
       "  <tbody>\n",
       "    <tr>\n",
       "      <th>0</th>\n",
       "      <td>Age</td>\n",
       "      <td>[-0.509330649161]</td>\n",
       "    </tr>\n",
       "    <tr>\n",
       "      <th>1</th>\n",
       "      <td>SibSp</td>\n",
       "      <td>[-0.210784780927]</td>\n",
       "    </tr>\n",
       "    <tr>\n",
       "      <th>2</th>\n",
       "      <td>Parch</td>\n",
       "      <td>[0.0596357705783]</td>\n",
       "    </tr>\n",
       "    <tr>\n",
       "      <th>3</th>\n",
       "      <td>Fare</td>\n",
       "      <td>[0.184189847766]</td>\n",
       "    </tr>\n",
       "    <tr>\n",
       "      <th>4</th>\n",
       "      <td>FamillyNbr</td>\n",
       "      <td>[-0.151149010349]</td>\n",
       "    </tr>\n",
       "    <tr>\n",
       "      <th>5</th>\n",
       "      <td>Genre</td>\n",
       "      <td>[-2.57502423511]</td>\n",
       "    </tr>\n",
       "    <tr>\n",
       "      <th>6</th>\n",
       "      <td>C1</td>\n",
       "      <td>[1.35924795916]</td>\n",
       "    </tr>\n",
       "    <tr>\n",
       "      <th>7</th>\n",
       "      <td>C2</td>\n",
       "      <td>[0.467726080305]</td>\n",
       "    </tr>\n",
       "    <tr>\n",
       "      <th>8</th>\n",
       "      <td>C3</td>\n",
       "      <td>[-0.631026992638]</td>\n",
       "    </tr>\n",
       "  </tbody>\n",
       "</table>\n",
       "</div>"
      ],
      "text/plain": [
       "            0                  1\n",
       "0         Age  [-0.509330649161]\n",
       "1       SibSp  [-0.210784780927]\n",
       "2       Parch  [0.0596357705783]\n",
       "3        Fare   [0.184189847766]\n",
       "4  FamillyNbr  [-0.151149010349]\n",
       "5       Genre   [-2.57502423511]\n",
       "6          C1    [1.35924795916]\n",
       "7          C2   [0.467726080305]\n",
       "8          C3  [-0.631026992638]"
      ]
     },
     "execution_count": 309,
     "metadata": {},
     "output_type": "execute_result"
    }
   ],
   "source": [
    "pd.DataFrame(zip(ntTrainData.columns, np.transpose(logisticRegression.coef_)))"
   ]
  },
  {
   "cell_type": "markdown",
   "metadata": {},
   "source": [
    "## Perceptron"
   ]
  },
  {
   "cell_type": "code",
   "execution_count": 310,
   "metadata": {
    "collapsed": false
   },
   "outputs": [
    {
     "name": "stdout",
     "output_type": "stream",
     "text": [
      "Accuracy for Perceptron : 82.0\n"
     ]
    }
   ],
   "source": [
    "perceptron = linear_model.Perceptron(penalty='l1') #Best found\n",
    "perceptron = perceptron.fit(ntTrainData,survivedTrain)\n",
    "resultperceptron = EvaluateModel(perceptron, ntValidateData, survivedValidate)\n",
    "print ('Accuracy for Perceptron : %s' % Accuracy(resultperceptron))"
   ]
  },
  {
   "cell_type": "markdown",
   "metadata": {
    "collapsed": true
   },
   "source": [
    "## Boosted decision tree"
   ]
  },
  {
   "cell_type": "code",
   "execution_count": 311,
   "metadata": {
    "collapsed": false
   },
   "outputs": [
    {
     "name": "stdout",
     "output_type": "stream",
     "text": [
      "Accuracy for Boosted Tree : 84.0\n",
      "Accuracy for Boosted Tree tuned : 86.0\n"
     ]
    }
   ],
   "source": [
    "# Default values\n",
    "boostTree = GradientBoostingClassifier(n_estimators=100, learning_rate=1,max_depth=1, random_state=0)\n",
    "boostTree= boostTree.fit(tidyTrainData,survivedTrain)\n",
    "resultBoostTree = EvaluateModel(boostTree, tidyValidateData, survivedValidate)\n",
    "print ('Accuracy for Boosted Tree : %s' % Accuracy(resultBoostTree))\n",
    "#Trials value\n",
    "boostTree = GradientBoostingClassifier(n_estimators=100, learning_rate=0.5,max_depth=1, random_state=0)\n",
    "boostTree= boostTree.fit(tidyTrainData,survivedTrain)\n",
    "resultBoostTree = EvaluateModel(boostTree, tidyValidateData, survivedValidate)\n",
    "print ('Accuracy for Boosted Tree tuned : %s' % Accuracy(resultBoostTree))"
   ]
  },
  {
   "cell_type": "markdown",
   "metadata": {},
   "source": [
    "## Neural network\n",
    "Not yet available in the current version"
   ]
  },
  {
   "cell_type": "markdown",
   "metadata": {},
   "source": [
    "```python\n",
    "MLP = MLPClassifier(solver='lbgfs', alpha=1e-5, hidden_layer_sizes=(5, 2), random_state=1)\n",
    "MLP = MLP.fit(ntTrainData,survivedTrain)\n",
    "resultBoostTree = EvaluateModel(boostTree, ntValidateData, survivedValidate)\n",
    "print ('Accuracy for Neural Network : %s' % Accuracy(resultBoostTree))\n",
    "```"
   ]
  },
  {
   "cell_type": "markdown",
   "metadata": {},
   "source": [
    "## Support vector machine\n",
    "Tried several kernels (poly was too intensive) and linear had best results"
   ]
  },
  {
   "cell_type": "code",
   "execution_count": 312,
   "metadata": {
    "collapsed": false
   },
   "outputs": [
    {
     "name": "stdout",
     "output_type": "stream",
     "text": [
      "Accuracy for SVM : 86.0\n"
     ]
    }
   ],
   "source": [
    "SVMClass = svm.SVC(kernel='linear')\n",
    "SVMClass= SVMClass.fit(tidyTrainData,survivedTrain)\n",
    "resultSVM = EvaluateModel(SVMClass, tidyValidateData, survivedValidate)\n",
    "print ('Accuracy for SVM : %s' % Accuracy(resultSVM))"
   ]
  },
  {
   "cell_type": "markdown",
   "metadata": {},
   "source": [
    "## K nearest neighbors"
   ]
  },
  {
   "cell_type": "code",
   "execution_count": 313,
   "metadata": {
    "collapsed": false
   },
   "outputs": [
    {
     "name": "stdout",
     "output_type": "stream",
     "text": [
      "Accuracy for SVM : 80.0\n"
     ]
    }
   ],
   "source": [
    "knei = neighbors.KNeighborsClassifier(n_neighbors=7,algorithm='auto')\n",
    "knei= knei.fit(tidyTrainData,survivedTrain)\n",
    "resultknei = EvaluateModel(knei, tidyValidateData, survivedValidate)\n",
    "print ('Accuracy for SVM : %s' % Accuracy(resultknei))"
   ]
  },
  {
   "cell_type": "markdown",
   "metadata": {},
   "source": [
    "# Best algorithms\n",
    "Two algorithms did as good : SVM & Boosted tree tuned with 86%\n",
    "We can compute on the test data then send it on Kaggle\n",
    "However some data is incomplete and could impact the prediction"
   ]
  },
  {
   "cell_type": "code",
   "execution_count": 314,
   "metadata": {
    "collapsed": false
   },
   "outputs": [
    {
     "name": "stdout",
     "output_type": "stream",
     "text": [
      "Does Age has NA : True\n",
      "Does Fare has NA : True\n",
      "Does Sex has NA : False\n",
      "Does Clas has NA : False\n",
      "Does FamillyNbr has NA : False\n"
     ]
    }
   ],
   "source": [
    "testData = LoadData('test.csv')\n",
    "AddFamillyNbr(testData)\n",
    "\n",
    "print('Does Age has NA : %s' % CheckForNull(testData.Age))\n",
    "print('Does Fare has NA : %s' % CheckForNull(testData.Fare))\n",
    "print('Does Sex has NA : %s' % CheckForNull(testData.Sex))\n",
    "print('Does Clas has NA : %s' % CheckForNull(testData.Pclass))\n",
    "print('Does FamillyNbr has NA : %s' % CheckForNull(testData.FamillyNbr))\n",
    "testData['Age']=testData['Age'].fillna(medianAge)\n",
    "medianFare = wholeInputData.Fare.median()\n",
    "testData['Fare']=testData['Fare'].fillna(medianFare)\n",
    "\n",
    "tidyTestData = TidyData(testData)\n",
    "normalizedTestData = applyNormalization(tidyTestData,normalizer)"
   ]
  },
  {
   "cell_type": "code",
   "execution_count": 315,
   "metadata": {
    "collapsed": false
   },
   "outputs": [
    {
     "data": {
      "text/html": [
       "<div>\n",
       "<table border=\"1\" class=\"dataframe\">\n",
       "  <thead>\n",
       "    <tr style=\"text-align: right;\">\n",
       "      <th></th>\n",
       "      <th>PassengerId</th>\n",
       "      <th>Survived</th>\n",
       "    </tr>\n",
       "  </thead>\n",
       "  <tbody>\n",
       "    <tr>\n",
       "      <th>0</th>\n",
       "      <td>892</td>\n",
       "      <td>0</td>\n",
       "    </tr>\n",
       "    <tr>\n",
       "      <th>1</th>\n",
       "      <td>893</td>\n",
       "      <td>1</td>\n",
       "    </tr>\n",
       "    <tr>\n",
       "      <th>2</th>\n",
       "      <td>894</td>\n",
       "      <td>0</td>\n",
       "    </tr>\n",
       "  </tbody>\n",
       "</table>\n",
       "</div>"
      ],
      "text/plain": [
       "   PassengerId  Survived\n",
       "0          892         0\n",
       "1          893         1\n",
       "2          894         0"
      ]
     },
     "execution_count": 315,
     "metadata": {},
     "output_type": "execute_result"
    }
   ],
   "source": [
    "testResultSVM = SVMClass.predict(tidyTestData)\n",
    "testResultBoost = boostTree.predict(tidyTestData)\n",
    "SVMPd = pd.DataFrame(testData.PassengerId)\n",
    "SVMPd['Survived'] = testResultSVM\n",
    "boostPd = pd.DataFrame(testData.PassengerId)\n",
    "boostPd['Survived'] = testResultBoost\n",
    "SVMPd.head(3)"
   ]
  },
  {
   "cell_type": "code",
   "execution_count": 316,
   "metadata": {
    "collapsed": false
   },
   "outputs": [
    {
     "data": {
      "text/html": [
       "<div>\n",
       "<table border=\"1\" class=\"dataframe\">\n",
       "  <thead>\n",
       "    <tr style=\"text-align: right;\">\n",
       "      <th></th>\n",
       "      <th>PassengerId</th>\n",
       "      <th>Survived</th>\n",
       "    </tr>\n",
       "  </thead>\n",
       "  <tbody>\n",
       "    <tr>\n",
       "      <th>0</th>\n",
       "      <td>892</td>\n",
       "      <td>0</td>\n",
       "    </tr>\n",
       "    <tr>\n",
       "      <th>1</th>\n",
       "      <td>893</td>\n",
       "      <td>0</td>\n",
       "    </tr>\n",
       "    <tr>\n",
       "      <th>2</th>\n",
       "      <td>894</td>\n",
       "      <td>0</td>\n",
       "    </tr>\n",
       "  </tbody>\n",
       "</table>\n",
       "</div>"
      ],
      "text/plain": [
       "   PassengerId  Survived\n",
       "0          892         0\n",
       "1          893         0\n",
       "2          894         0"
      ]
     },
     "execution_count": 316,
     "metadata": {},
     "output_type": "execute_result"
    }
   ],
   "source": [
    "boostPd.head(3)"
   ]
  },
  {
   "cell_type": "code",
   "execution_count": 317,
   "metadata": {
    "collapsed": true
   },
   "outputs": [],
   "source": [
    "SVMPd.to_csv(path_or_buf='SVMPredict.csv', columns=['PassengerId','Survived'], index=False,header=True)\n",
    "boostPd.to_csv(path_or_buf='boostPredict.csv', columns=['PassengerId','Survived'], index=False,header=True)"
   ]
  },
  {
   "cell_type": "markdown",
   "metadata": {},
   "source": [
    "<img src='Second submission.png' alt='Second submission'/>\n",
    "No better then manually done for boost tree"
   ]
  },
  {
   "cell_type": "markdown",
   "metadata": {},
   "source": [
    "<img src='ThirdSubmission.png' alt='Third Submission'/>\n",
    "Third submission SVM is not really better either"
   ]
  },
  {
   "cell_type": "markdown",
   "metadata": {},
   "source": [
    "## Second best\n",
    "Using the second best simple approach : trees"
   ]
  },
  {
   "cell_type": "code",
   "execution_count": 318,
   "metadata": {
    "collapsed": false
   },
   "outputs": [],
   "source": [
    "testResultSVM = limitedTree.predict(tidyTestData)\n",
    "treeTest = pd.DataFrame(testData.PassengerId)\n",
    "treeTest['Survived'] = testResultSVM\n",
    "treeTest.to_csv(path_or_buf='treePredict.csv', columns=['PassengerId','Survived'], index=False,header=True)"
   ]
  },
  {
   "cell_type": "markdown",
   "metadata": {},
   "source": [
    "<img src='TreeSubmission.png' alt='Tree Submission'/>\n",
    "Not an improvement either"
   ]
  },
  {
   "cell_type": "markdown",
   "metadata": {
    "collapsed": true
   },
   "source": [
    "# Cross validation\n",
    "Using cross validation to improve estimatation of score\n",
    "### Tree"
   ]
  },
  {
   "cell_type": "code",
   "execution_count": 319,
   "metadata": {
    "collapsed": false
   },
   "outputs": [
    {
     "name": "stdout",
     "output_type": "stream",
     "text": [
      "Estimated score for tree 80.2509363296 (+- 3.35)\n"
     ]
    }
   ],
   "source": [
    "def crossEstimate(data,result, model,folds):\n",
    "    #Get the index splits\n",
    "    nbrElements = len(data)\n",
    "    kf = KFold(nbrElements, n_folds=folds)\n",
    "    foldCpt = 0    \n",
    "    scores = np.zeros(folds)\n",
    "    #Iterate over the fold\n",
    "    for train_idx, test_idx in kf:\n",
    "        foldCpt+=1\n",
    "        #print('Fold %s' % foldCpt)        \n",
    "        ##Fit\n",
    "        mdl = model()\n",
    "        mdl = mdl.fit(data.iloc[train_idx],result.iloc[train_idx] )\n",
    "        ##Compute the score\n",
    "        mdlResults = EvaluateModel(mdl,data.iloc[test_idx], result.iloc[test_idx])\n",
    "        scores[foldCpt-1] = Accuracy(mdlResults)\n",
    "        #print('Score : %s' % scores[foldCpt-1])\n",
    "    #Return the scores\n",
    "    return scores\n",
    "foldNumber=10\n",
    "tidyWholeData = TidyData(wholeInputData)\n",
    "scores = np.array(crossEstimate(tidyWholeData,wholeInputData.Survived,tree.DecisionTreeClassifier,foldNumber))\n",
    "print ('Estimated score for tree %s (+- %s)'% (scores.mean(),round(scores.std(),2)))"
   ]
  },
  {
   "cell_type": "markdown",
   "metadata": {},
   "source": [
    "### Random Forest"
   ]
  },
  {
   "cell_type": "code",
   "execution_count": 320,
   "metadata": {
    "collapsed": false
   },
   "outputs": [
    {
     "name": "stdout",
     "output_type": "stream",
     "text": [
      "Estimated score for random forest 81.1510611735 (+- 3.47)\n"
     ]
    }
   ],
   "source": [
    "scores = np.array(crossEstimate(tidyWholeData,wholeInputData.Survived,lambda:ensemble.RandomForestClassifier(n_estimators=10,max_features=3),foldNumber))\n",
    "print ('Estimated score for random forest %s (+- %s)'% (scores.mean(),round(scores.std(),2)))"
   ]
  },
  {
   "cell_type": "markdown",
   "metadata": {},
   "source": [
    "### Logistic Regression"
   ]
  },
  {
   "cell_type": "code",
   "execution_count": 321,
   "metadata": {
    "collapsed": false
   },
   "outputs": [
    {
     "name": "stdout",
     "output_type": "stream",
     "text": [
      "Estimated score for logistic regression 79.0124843945 (+- 2.46)\n"
     ]
    }
   ],
   "source": [
    "normalizedWholeData=applyNormalization(tidyWholeData,normalizer)\n",
    "mdl = lambda:linear_model.LogisticRegression()\n",
    "scores = np.array(crossEstimate(normalizedWholeData,wholeInputData.Survived,mdl,foldNumber))\n",
    "print ('Estimated score for logistic regression %s (+- %s)'% (scores.mean(),round(scores.std(),2)))"
   ]
  },
  {
   "cell_type": "markdown",
   "metadata": {},
   "source": [
    "### Perceptron"
   ]
  },
  {
   "cell_type": "code",
   "execution_count": 322,
   "metadata": {
    "collapsed": false
   },
   "outputs": [
    {
     "name": "stdout",
     "output_type": "stream",
     "text": [
      "Estimated score for perceptron 70.1473158552 (+- 3.65)\n"
     ]
    }
   ],
   "source": [
    "mdl = lambda:linear_model.Perceptron(penalty='l1')\n",
    "scores = np.array(crossEstimate(normalizedWholeData,wholeInputData.Survived,mdl,foldNumber))\n",
    "print ('Estimated score for perceptron %s (+- %s)'% (scores.mean(),round(scores.std(),2)))"
   ]
  },
  {
   "cell_type": "markdown",
   "metadata": {},
   "source": [
    "### Boosted Decision Tree"
   ]
  },
  {
   "cell_type": "code",
   "execution_count": 323,
   "metadata": {
    "collapsed": false
   },
   "outputs": [
    {
     "name": "stdout",
     "output_type": "stream",
     "text": [
      "Estimated score for boosted tree 81.9325842697 (+- 2.85)\n"
     ]
    }
   ],
   "source": [
    "mdl = lambda:GradientBoostingClassifier(n_estimators=100, learning_rate=0.5,max_depth=1, random_state=0)\n",
    "scores = np.array(crossEstimate(tidyWholeData,wholeInputData.Survived,mdl,foldNumber))\n",
    "print ('Estimated score for boosted tree %s (+- %s)'% (scores.mean(),round(scores.std(),2)))"
   ]
  },
  {
   "cell_type": "markdown",
   "metadata": {},
   "source": [
    "### Support Vector"
   ]
  },
  {
   "cell_type": "code",
   "execution_count": 324,
   "metadata": {
    "collapsed": false
   },
   "outputs": [
    {
     "name": "stdout",
     "output_type": "stream",
     "text": [
      "Estimated score for Support Vector 78.6729088639 (+- 3.94)\n"
     ]
    }
   ],
   "source": [
    "mdl = lambda:svm.SVC(kernel='linear')\n",
    "scores = np.array(crossEstimate(normalizedWholeData,wholeInputData.Survived,mdl,foldNumber))\n",
    "print ('Estimated score for Support Vector %s (+- %s)'% (scores.mean(),round(scores.std(),2)))"
   ]
  },
  {
   "cell_type": "markdown",
   "metadata": {},
   "source": [
    "### K nearest neighbors"
   ]
  },
  {
   "cell_type": "code",
   "execution_count": 325,
   "metadata": {
    "collapsed": false
   },
   "outputs": [
    {
     "name": "stdout",
     "output_type": "stream",
     "text": [
      "Estimated score for Support Vector 78.6816479401 (+- 3.04)\n"
     ]
    }
   ],
   "source": [
    "mdl = lambda:neighbors.KNeighborsClassifier(n_neighbors=7,algorithm='auto')\n",
    "scores = np.array(crossEstimate(normalizedWholeData,wholeInputData.Survived,mdl,foldNumber))\n",
    "print ('Estimated score for Support Vector %s (+- %s)'% (scores.mean(),round(scores.std(),2)))"
   ]
  },
  {
   "cell_type": "markdown",
   "metadata": {},
   "source": [
    "## Conclusion of cross validation\n",
    "Boosted tree is still considered as a good option, but other have a lower rank.\n",
    "Random forest is the best apparently.\n",
    "Let's produce a prediction based on it."
   ]
  },
  {
   "cell_type": "code",
   "execution_count": 326,
   "metadata": {
    "collapsed": false
   },
   "outputs": [],
   "source": [
    "RFTreeResults = rfcTrees.predict(tidyTestData)\n",
    "rftreeTest = pd.DataFrame(testData.PassengerId)\n",
    "rftreeTest['Survived'] = RFTreeResults\n",
    "rftreeTest.to_csv(path_or_buf='rftreePredict.csv', columns=['PassengerId','Survived'], index=False,header=True)"
   ]
  },
  {
   "cell_type": "markdown",
   "metadata": {},
   "source": [
    "Random forest submission yeld no improvment (with a score of 0.76555)"
   ]
  },
  {
   "cell_type": "markdown",
   "metadata": {},
   "source": [
    "# Feature Engineering\n",
    "When seen earlier faire was too large. Let's try with a fare range stopping at 100\n",
    "We also remove number of siblings and parch as too much correlated with familly nbr\n",
    "NB : We should do that earlier to be able to normalize once. It could be corrected in a future version."
   ]
  },
  {
   "cell_type": "code",
   "execution_count": 327,
   "metadata": {
    "collapsed": false
   },
   "outputs": [
    {
     "data": {
      "text/html": [
       "<div>\n",
       "<table border=\"1\" class=\"dataframe\">\n",
       "  <thead>\n",
       "    <tr style=\"text-align: right;\">\n",
       "      <th></th>\n",
       "      <th>Age</th>\n",
       "      <th>FamillyNbr</th>\n",
       "      <th>Genre</th>\n",
       "      <th>FareRange</th>\n",
       "      <th>C1</th>\n",
       "      <th>C2</th>\n",
       "      <th>C3</th>\n",
       "    </tr>\n",
       "  </thead>\n",
       "  <tbody>\n",
       "    <tr>\n",
       "      <th>0</th>\n",
       "      <td>22.0</td>\n",
       "      <td>1</td>\n",
       "      <td>1</td>\n",
       "      <td>0.0</td>\n",
       "      <td>0.0</td>\n",
       "      <td>0.0</td>\n",
       "      <td>1.0</td>\n",
       "    </tr>\n",
       "    <tr>\n",
       "      <th>1</th>\n",
       "      <td>38.0</td>\n",
       "      <td>1</td>\n",
       "      <td>0</td>\n",
       "      <td>70.0</td>\n",
       "      <td>1.0</td>\n",
       "      <td>0.0</td>\n",
       "      <td>0.0</td>\n",
       "    </tr>\n",
       "    <tr>\n",
       "      <th>2</th>\n",
       "      <td>26.0</td>\n",
       "      <td>0</td>\n",
       "      <td>0</td>\n",
       "      <td>0.0</td>\n",
       "      <td>0.0</td>\n",
       "      <td>0.0</td>\n",
       "      <td>1.0</td>\n",
       "    </tr>\n",
       "  </tbody>\n",
       "</table>\n",
       "</div>"
      ],
      "text/plain": [
       "    Age  FamillyNbr  Genre  FareRange   C1   C2   C3\n",
       "0  22.0           1      1        0.0  0.0  0.0  1.0\n",
       "1  38.0           1      0       70.0  1.0  0.0  0.0\n",
       "2  26.0           0      0        0.0  0.0  0.0  1.0"
      ]
     },
     "execution_count": 327,
     "metadata": {},
     "output_type": "execute_result"
    }
   ],
   "source": [
    "def addAndCleanFeatures(data):\n",
    "    rslt = data.drop('Fare',axis=1)\n",
    "    #lambda x:100 if x>100 else x//10*10)\n",
    "    rslt['FareRange']=data.Fare.apply(lambda x:100 if x>100 else x//10*10)\n",
    "    #rslt['AgeRange']=data.Age.apply(lambda x:x//5*5)\n",
    "    rslt[['C1','C2','C3']] = pd.get_dummies(data.Pclass)\n",
    "    #rslt = rslt.drop(['Pclass','SibSp','Parch','Age'],axis=1)\n",
    "    rslt = rslt.drop(['Pclass','SibSp','Parch'],axis=1)\n",
    "    return rslt\n",
    "ctWData = addAndCleanFeatures(tidyWholeData)\n",
    "ctWData.head(3)"
   ]
  },
  {
   "cell_type": "code",
   "execution_count": 328,
   "metadata": {
    "collapsed": false
   },
   "outputs": [
    {
     "name": "stdout",
     "output_type": "stream",
     "text": [
      "Estimated score for random forest 79.2471910112 (+- 3.98)\n"
     ]
    }
   ],
   "source": [
    "model = lambda:ensemble.RandomForestClassifier(n_estimators=10,max_features=3)\n",
    "scores = np.array(crossEstimate(ctWData,wholeInputData.Survived,model,foldNumber))\n",
    "print ('Estimated score for random forest %s (+- %s)'% (scores.mean(),round(scores.std(),2)))"
   ]
  },
  {
   "cell_type": "code",
   "execution_count": 329,
   "metadata": {
    "collapsed": false
   },
   "outputs": [
    {
     "name": "stdout",
     "output_type": "stream",
     "text": [
      "Estimated score for tree 79.0149812734 (+- 1.71)\n"
     ]
    }
   ],
   "source": [
    "scores = np.array(crossEstimate(ctWData,wholeInputData.Survived,tree.DecisionTreeClassifier,foldNumber))\n",
    "print ('Estimated score for tree %s (+- %s)'% (scores.mean(),round(scores.std(),2)))"
   ]
  },
  {
   "cell_type": "markdown",
   "metadata": {},
   "source": [
    "For random forest variability has been reduced."
   ]
  },
  {
   "cell_type": "markdown",
   "metadata": {},
   "source": [
    "## Cabin"
   ]
  },
  {
   "cell_type": "code",
   "execution_count": 341,
   "metadata": {
    "collapsed": false
   },
   "outputs": [
    {
     "data": {
      "text/html": [
       "<div>\n",
       "<table border=\"1\" class=\"dataframe\">\n",
       "  <thead>\n",
       "    <tr style=\"text-align: right;\">\n",
       "      <th></th>\n",
       "      <th>Age</th>\n",
       "      <th>FamillyNbr</th>\n",
       "      <th>Genre</th>\n",
       "      <th>FareRange</th>\n",
       "      <th>C1</th>\n",
       "      <th>C2</th>\n",
       "      <th>C3</th>\n",
       "      <th>Cabin_A</th>\n",
       "      <th>Cabin_B</th>\n",
       "      <th>Cabin_C</th>\n",
       "      <th>Cabin_D</th>\n",
       "      <th>Cabin_E</th>\n",
       "      <th>Cabin_F</th>\n",
       "      <th>Cabin_G</th>\n",
       "      <th>Cabin_T</th>\n",
       "      <th>Cabin_U</th>\n",
       "      <th>Port_C</th>\n",
       "      <th>Port_Q</th>\n",
       "      <th>Port_S</th>\n",
       "    </tr>\n",
       "  </thead>\n",
       "  <tbody>\n",
       "    <tr>\n",
       "      <th>0</th>\n",
       "      <td>22.0</td>\n",
       "      <td>1</td>\n",
       "      <td>1</td>\n",
       "      <td>0.0</td>\n",
       "      <td>0.0</td>\n",
       "      <td>0.0</td>\n",
       "      <td>1.0</td>\n",
       "      <td>0.0</td>\n",
       "      <td>0.0</td>\n",
       "      <td>0.0</td>\n",
       "      <td>0.0</td>\n",
       "      <td>0.0</td>\n",
       "      <td>0.0</td>\n",
       "      <td>0.0</td>\n",
       "      <td>0.0</td>\n",
       "      <td>1.0</td>\n",
       "      <td>0.0</td>\n",
       "      <td>0.0</td>\n",
       "      <td>1.0</td>\n",
       "    </tr>\n",
       "    <tr>\n",
       "      <th>1</th>\n",
       "      <td>38.0</td>\n",
       "      <td>1</td>\n",
       "      <td>0</td>\n",
       "      <td>70.0</td>\n",
       "      <td>1.0</td>\n",
       "      <td>0.0</td>\n",
       "      <td>0.0</td>\n",
       "      <td>0.0</td>\n",
       "      <td>0.0</td>\n",
       "      <td>1.0</td>\n",
       "      <td>0.0</td>\n",
       "      <td>0.0</td>\n",
       "      <td>0.0</td>\n",
       "      <td>0.0</td>\n",
       "      <td>0.0</td>\n",
       "      <td>0.0</td>\n",
       "      <td>1.0</td>\n",
       "      <td>0.0</td>\n",
       "      <td>0.0</td>\n",
       "    </tr>\n",
       "    <tr>\n",
       "      <th>2</th>\n",
       "      <td>26.0</td>\n",
       "      <td>0</td>\n",
       "      <td>0</td>\n",
       "      <td>0.0</td>\n",
       "      <td>0.0</td>\n",
       "      <td>0.0</td>\n",
       "      <td>1.0</td>\n",
       "      <td>0.0</td>\n",
       "      <td>0.0</td>\n",
       "      <td>0.0</td>\n",
       "      <td>0.0</td>\n",
       "      <td>0.0</td>\n",
       "      <td>0.0</td>\n",
       "      <td>0.0</td>\n",
       "      <td>0.0</td>\n",
       "      <td>1.0</td>\n",
       "      <td>0.0</td>\n",
       "      <td>0.0</td>\n",
       "      <td>1.0</td>\n",
       "    </tr>\n",
       "  </tbody>\n",
       "</table>\n",
       "</div>"
      ],
      "text/plain": [
       "    Age  FamillyNbr  Genre  FareRange   C1   C2   C3  Cabin_A  Cabin_B  \\\n",
       "0  22.0           1      1        0.0  0.0  0.0  1.0      0.0      0.0   \n",
       "1  38.0           1      0       70.0  1.0  0.0  0.0      0.0      0.0   \n",
       "2  26.0           0      0        0.0  0.0  0.0  1.0      0.0      0.0   \n",
       "\n",
       "   Cabin_C  Cabin_D  Cabin_E  Cabin_F  Cabin_G  Cabin_T  Cabin_U  Port_C  \\\n",
       "0      0.0      0.0      0.0      0.0      0.0      0.0      1.0     0.0   \n",
       "1      1.0      0.0      0.0      0.0      0.0      0.0      0.0     1.0   \n",
       "2      0.0      0.0      0.0      0.0      0.0      0.0      1.0     0.0   \n",
       "\n",
       "   Port_Q  Port_S  \n",
       "0     0.0     1.0  \n",
       "1     0.0     0.0  \n",
       "2     0.0     1.0  "
      ]
     },
     "execution_count": 341,
     "metadata": {},
     "output_type": "execute_result"
    }
   ],
   "source": [
    "#print(type(wholeInputData['Cabin'][1])==str)\n",
    "def addCabinLetter(data):\n",
    "    rslt = data.drop('Cabin',axis=1)\n",
    "    rslt['CabinLetter'] = map(lambda x:x[0] if type(x)==str else None,data.Cabin)\n",
    "    rslt['CabinLetter']  = rslt.CabinLetter.fillna('U')\n",
    "    rslt = pd.concat([rslt,pd.get_dummies(rslt.CabinLetter,prefix='Cabin')],axis=1)\n",
    "    rslt = pd.concat([rslt,pd.get_dummies(rslt.Port,prefix='Port')],axis=1)\n",
    "    return rslt.drop(['CabinLetter','Port'], axis=1)\n",
    "c1 = ctWData.copy()\n",
    "c1['Cabin']=wholeInputData.Cabin\n",
    "c1['Port']=wholeInputData.Embarked\n",
    "c2 = addCabinLetter(c1)\n",
    "c2.head(3)"
   ]
  },
  {
   "cell_type": "code",
   "execution_count": 343,
   "metadata": {
    "collapsed": false
   },
   "outputs": [
    {
     "name": "stdout",
     "output_type": "stream",
     "text": [
      "Estimated score for random forest 79.0174781523 (+- 4.17)\n",
      "Estimated score for tree 79.2446941323 (+- 4.25)\n"
     ]
    }
   ],
   "source": [
    "model = lambda:ensemble.RandomForestClassifier(n_estimators=5)\n",
    "scores = np.array(crossEstimate(c2,wholeInputData.Survived,model,foldNumber))\n",
    "print ('Estimated score for random forest %s (+- %s)'% (scores.mean(),round(scores.std(),2)))\n",
    "scores = np.array(crossEstimate(c2,wholeInputData.Survived,tree.DecisionTreeClassifier,foldNumber))\n",
    "print ('Estimated score for tree %s (+- %s)'% (scores.mean(),round(scores.std(),2)))"
   ]
  },
  {
   "cell_type": "code",
   "execution_count": 275,
   "metadata": {
    "collapsed": false
   },
   "outputs": [],
   "source": [
    "rfcTrees = ensemble.RandomForestClassifier(n_estimators=5)\n",
    "rfcTrees = rfcTrees.fit(c2,wholeInputData.Survived)\n",
    "tidyTestData['Cabin']=testData.Cabin\n",
    "t2 = addCabinLetter(addAndCleanFeatures(tidyTestData))\n",
    "t2['T']=np.zeros(len(t2))\n",
    "RFTreeResults = rfcTrees.predict(t2)\n",
    "rftreeTest = pd.DataFrame(testData.PassengerId)\n",
    "rftreeTest['Survived'] = RFTreeResults\n",
    "rftreeTest.to_csv(path_or_buf='rtfeatures.csv', columns=['PassengerId','Survived'], index=False,header=True)"
   ]
  },
  {
   "cell_type": "code",
   "execution_count": null,
   "metadata": {
    "collapsed": true
   },
   "outputs": [],
   "source": []
  }
 ],
 "metadata": {
  "anaconda-cloud": {},
  "kernelspec": {
   "display_name": "Python [Root]",
   "language": "python",
   "name": "Python [Root]"
  },
  "language_info": {
   "codemirror_mode": {
    "name": "ipython",
    "version": 2
   },
   "file_extension": ".py",
   "mimetype": "text/x-python",
   "name": "python",
   "nbconvert_exporter": "python",
   "pygments_lexer": "ipython2",
   "version": "2.7.12"
  }
 },
 "nbformat": 4,
 "nbformat_minor": 0
}
